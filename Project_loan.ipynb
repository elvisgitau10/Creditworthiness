{
 "cells": [
  {
   "cell_type": "code",
   "execution_count": 6,
   "id": "d28f1749",
   "metadata": {},
   "outputs": [],
   "source": [
    "# importing libraries\n",
    "import pandas as pd\n",
    "import numpy as np\n",
    "import seaborn as sns\n",
    "%matplotlib inline\n",
    "import matplotlib.pyplot as plt \n",
    "from matplotlib import rcParams\n",
    "import warnings \n",
    "warnings.filterwarnings('ignore')"
   ]
  },
  {
   "cell_type": "code",
   "execution_count": 8,
   "id": "ee56967f",
   "metadata": {},
   "outputs": [
    {
     "data": {
      "text/html": [
       "<div>\n",
       "<style scoped>\n",
       "    .dataframe tbody tr th:only-of-type {\n",
       "        vertical-align: middle;\n",
       "    }\n",
       "\n",
       "    .dataframe tbody tr th {\n",
       "        vertical-align: top;\n",
       "    }\n",
       "\n",
       "    .dataframe thead th {\n",
       "        text-align: right;\n",
       "    }\n",
       "</style>\n",
       "<table border=\"1\" class=\"dataframe\">\n",
       "  <thead>\n",
       "    <tr style=\"text-align: right;\">\n",
       "      <th></th>\n",
       "      <th>Loan_ID</th>\n",
       "      <th>ismale</th>\n",
       "      <th>married</th>\n",
       "      <th>dependents</th>\n",
       "      <th>education</th>\n",
       "      <th>self-employed</th>\n",
       "      <th>applicant_inc</th>\n",
       "      <th>spouse_inc</th>\n",
       "      <th>amount</th>\n",
       "      <th>time</th>\n",
       "      <th>rural_p</th>\n",
       "      <th>urban_p</th>\n",
       "      <th>semiurban_p</th>\n",
       "      <th>history</th>\n",
       "      <th>status</th>\n",
       "    </tr>\n",
       "  </thead>\n",
       "  <tbody>\n",
       "    <tr>\n",
       "      <th>0</th>\n",
       "      <td>LP001003</td>\n",
       "      <td>1</td>\n",
       "      <td>1</td>\n",
       "      <td>1</td>\n",
       "      <td>1</td>\n",
       "      <td>0</td>\n",
       "      <td>4583</td>\n",
       "      <td>1508.0</td>\n",
       "      <td>128</td>\n",
       "      <td>360</td>\n",
       "      <td>1</td>\n",
       "      <td>0</td>\n",
       "      <td>0</td>\n",
       "      <td>1</td>\n",
       "      <td>0</td>\n",
       "    </tr>\n",
       "    <tr>\n",
       "      <th>1</th>\n",
       "      <td>LP001005</td>\n",
       "      <td>1</td>\n",
       "      <td>1</td>\n",
       "      <td>0</td>\n",
       "      <td>1</td>\n",
       "      <td>1</td>\n",
       "      <td>3000</td>\n",
       "      <td>0.0</td>\n",
       "      <td>66</td>\n",
       "      <td>360</td>\n",
       "      <td>0</td>\n",
       "      <td>1</td>\n",
       "      <td>0</td>\n",
       "      <td>1</td>\n",
       "      <td>1</td>\n",
       "    </tr>\n",
       "    <tr>\n",
       "      <th>2</th>\n",
       "      <td>LP001006</td>\n",
       "      <td>1</td>\n",
       "      <td>1</td>\n",
       "      <td>0</td>\n",
       "      <td>0</td>\n",
       "      <td>0</td>\n",
       "      <td>2583</td>\n",
       "      <td>2358.0</td>\n",
       "      <td>120</td>\n",
       "      <td>360</td>\n",
       "      <td>0</td>\n",
       "      <td>1</td>\n",
       "      <td>0</td>\n",
       "      <td>1</td>\n",
       "      <td>1</td>\n",
       "    </tr>\n",
       "    <tr>\n",
       "      <th>3</th>\n",
       "      <td>LP001008</td>\n",
       "      <td>1</td>\n",
       "      <td>0</td>\n",
       "      <td>0</td>\n",
       "      <td>1</td>\n",
       "      <td>0</td>\n",
       "      <td>6000</td>\n",
       "      <td>0.0</td>\n",
       "      <td>141</td>\n",
       "      <td>360</td>\n",
       "      <td>0</td>\n",
       "      <td>1</td>\n",
       "      <td>0</td>\n",
       "      <td>1</td>\n",
       "      <td>1</td>\n",
       "    </tr>\n",
       "    <tr>\n",
       "      <th>4</th>\n",
       "      <td>LP001011</td>\n",
       "      <td>1</td>\n",
       "      <td>1</td>\n",
       "      <td>2</td>\n",
       "      <td>1</td>\n",
       "      <td>1</td>\n",
       "      <td>5417</td>\n",
       "      <td>4196.0</td>\n",
       "      <td>267</td>\n",
       "      <td>360</td>\n",
       "      <td>0</td>\n",
       "      <td>1</td>\n",
       "      <td>0</td>\n",
       "      <td>1</td>\n",
       "      <td>1</td>\n",
       "    </tr>\n",
       "    <tr>\n",
       "      <th>...</th>\n",
       "      <td>...</td>\n",
       "      <td>...</td>\n",
       "      <td>...</td>\n",
       "      <td>...</td>\n",
       "      <td>...</td>\n",
       "      <td>...</td>\n",
       "      <td>...</td>\n",
       "      <td>...</td>\n",
       "      <td>...</td>\n",
       "      <td>...</td>\n",
       "      <td>...</td>\n",
       "      <td>...</td>\n",
       "      <td>...</td>\n",
       "      <td>...</td>\n",
       "      <td>...</td>\n",
       "    </tr>\n",
       "    <tr>\n",
       "      <th>475</th>\n",
       "      <td>LP002978</td>\n",
       "      <td>0</td>\n",
       "      <td>0</td>\n",
       "      <td>0</td>\n",
       "      <td>1</td>\n",
       "      <td>0</td>\n",
       "      <td>2900</td>\n",
       "      <td>0.0</td>\n",
       "      <td>71</td>\n",
       "      <td>360</td>\n",
       "      <td>1</td>\n",
       "      <td>0</td>\n",
       "      <td>0</td>\n",
       "      <td>1</td>\n",
       "      <td>1</td>\n",
       "    </tr>\n",
       "    <tr>\n",
       "      <th>476</th>\n",
       "      <td>LP002979</td>\n",
       "      <td>1</td>\n",
       "      <td>1</td>\n",
       "      <td>3+</td>\n",
       "      <td>1</td>\n",
       "      <td>0</td>\n",
       "      <td>4106</td>\n",
       "      <td>0.0</td>\n",
       "      <td>40</td>\n",
       "      <td>180</td>\n",
       "      <td>1</td>\n",
       "      <td>0</td>\n",
       "      <td>0</td>\n",
       "      <td>1</td>\n",
       "      <td>1</td>\n",
       "    </tr>\n",
       "    <tr>\n",
       "      <th>477</th>\n",
       "      <td>LP002983</td>\n",
       "      <td>1</td>\n",
       "      <td>1</td>\n",
       "      <td>1</td>\n",
       "      <td>1</td>\n",
       "      <td>0</td>\n",
       "      <td>8072</td>\n",
       "      <td>240.0</td>\n",
       "      <td>253</td>\n",
       "      <td>360</td>\n",
       "      <td>0</td>\n",
       "      <td>1</td>\n",
       "      <td>0</td>\n",
       "      <td>1</td>\n",
       "      <td>1</td>\n",
       "    </tr>\n",
       "    <tr>\n",
       "      <th>478</th>\n",
       "      <td>LP002984</td>\n",
       "      <td>1</td>\n",
       "      <td>1</td>\n",
       "      <td>2</td>\n",
       "      <td>1</td>\n",
       "      <td>0</td>\n",
       "      <td>7583</td>\n",
       "      <td>0.0</td>\n",
       "      <td>187</td>\n",
       "      <td>360</td>\n",
       "      <td>0</td>\n",
       "      <td>1</td>\n",
       "      <td>0</td>\n",
       "      <td>1</td>\n",
       "      <td>1</td>\n",
       "    </tr>\n",
       "    <tr>\n",
       "      <th>479</th>\n",
       "      <td>LP002990</td>\n",
       "      <td>0</td>\n",
       "      <td>0</td>\n",
       "      <td>0</td>\n",
       "      <td>1</td>\n",
       "      <td>1</td>\n",
       "      <td>4583</td>\n",
       "      <td>0.0</td>\n",
       "      <td>133</td>\n",
       "      <td>360</td>\n",
       "      <td>0</td>\n",
       "      <td>0</td>\n",
       "      <td>1</td>\n",
       "      <td>0</td>\n",
       "      <td>0</td>\n",
       "    </tr>\n",
       "  </tbody>\n",
       "</table>\n",
       "<p>480 rows × 15 columns</p>\n",
       "</div>"
      ],
      "text/plain": [
       "      Loan_ID  ismale  married dependents  education  self-employed  \\\n",
       "0    LP001003       1        1          1          1              0   \n",
       "1    LP001005       1        1          0          1              1   \n",
       "2    LP001006       1        1          0          0              0   \n",
       "3    LP001008       1        0          0          1              0   \n",
       "4    LP001011       1        1          2          1              1   \n",
       "..        ...     ...      ...        ...        ...            ...   \n",
       "475  LP002978       0        0          0          1              0   \n",
       "476  LP002979       1        1         3+          1              0   \n",
       "477  LP002983       1        1          1          1              0   \n",
       "478  LP002984       1        1          2          1              0   \n",
       "479  LP002990       0        0          0          1              1   \n",
       "\n",
       "     applicant_inc  spouse_inc  amount  time  rural_p  urban_p  semiurban_p  \\\n",
       "0             4583      1508.0     128   360        1        0            0   \n",
       "1             3000         0.0      66   360        0        1            0   \n",
       "2             2583      2358.0     120   360        0        1            0   \n",
       "3             6000         0.0     141   360        0        1            0   \n",
       "4             5417      4196.0     267   360        0        1            0   \n",
       "..             ...         ...     ...   ...      ...      ...          ...   \n",
       "475           2900         0.0      71   360        1        0            0   \n",
       "476           4106         0.0      40   180        1        0            0   \n",
       "477           8072       240.0     253   360        0        1            0   \n",
       "478           7583         0.0     187   360        0        1            0   \n",
       "479           4583         0.0     133   360        0        0            1   \n",
       "\n",
       "     history  status  \n",
       "0          1       0  \n",
       "1          1       1  \n",
       "2          1       1  \n",
       "3          1       1  \n",
       "4          1       1  \n",
       "..       ...     ...  \n",
       "475        1       1  \n",
       "476        1       1  \n",
       "477        1       1  \n",
       "478        1       1  \n",
       "479        0       0  \n",
       "\n",
       "[480 rows x 15 columns]"
      ]
     },
     "execution_count": 8,
     "metadata": {},
     "output_type": "execute_result"
    }
   ],
   "source": [
    "# read the dataset\n",
    "df = pd.read_csv('loan.csv')\n",
    "df"
   ]
  },
  {
   "cell_type": "markdown",
   "id": "e5569ba9",
   "metadata": {},
   "source": [
    "DATASET PREPROCESSED IN EXCELL"
   ]
  },
  {
   "cell_type": "code",
   "execution_count": 9,
   "id": "6f2a684c",
   "metadata": {},
   "outputs": [
    {
     "data": {
      "text/html": [
       "<div>\n",
       "<style scoped>\n",
       "    .dataframe tbody tr th:only-of-type {\n",
       "        vertical-align: middle;\n",
       "    }\n",
       "\n",
       "    .dataframe tbody tr th {\n",
       "        vertical-align: top;\n",
       "    }\n",
       "\n",
       "    .dataframe thead th {\n",
       "        text-align: right;\n",
       "    }\n",
       "</style>\n",
       "<table border=\"1\" class=\"dataframe\">\n",
       "  <thead>\n",
       "    <tr style=\"text-align: right;\">\n",
       "      <th></th>\n",
       "      <th>Loan_ID</th>\n",
       "      <th>ismale</th>\n",
       "      <th>married</th>\n",
       "      <th>dependents</th>\n",
       "      <th>education</th>\n",
       "      <th>self-employed</th>\n",
       "      <th>applicant_inc</th>\n",
       "      <th>spouse_inc</th>\n",
       "      <th>amount</th>\n",
       "      <th>time</th>\n",
       "      <th>rural_p</th>\n",
       "      <th>urban_p</th>\n",
       "      <th>semiurban_p</th>\n",
       "      <th>history</th>\n",
       "      <th>status</th>\n",
       "    </tr>\n",
       "  </thead>\n",
       "  <tbody>\n",
       "    <tr>\n",
       "      <th>0</th>\n",
       "      <td>LP001003</td>\n",
       "      <td>1</td>\n",
       "      <td>1</td>\n",
       "      <td>1</td>\n",
       "      <td>1</td>\n",
       "      <td>0</td>\n",
       "      <td>4583</td>\n",
       "      <td>1508.0</td>\n",
       "      <td>128</td>\n",
       "      <td>360</td>\n",
       "      <td>1</td>\n",
       "      <td>0</td>\n",
       "      <td>0</td>\n",
       "      <td>1</td>\n",
       "      <td>0</td>\n",
       "    </tr>\n",
       "    <tr>\n",
       "      <th>1</th>\n",
       "      <td>LP001005</td>\n",
       "      <td>1</td>\n",
       "      <td>1</td>\n",
       "      <td>0</td>\n",
       "      <td>1</td>\n",
       "      <td>1</td>\n",
       "      <td>3000</td>\n",
       "      <td>0.0</td>\n",
       "      <td>66</td>\n",
       "      <td>360</td>\n",
       "      <td>0</td>\n",
       "      <td>1</td>\n",
       "      <td>0</td>\n",
       "      <td>1</td>\n",
       "      <td>1</td>\n",
       "    </tr>\n",
       "    <tr>\n",
       "      <th>2</th>\n",
       "      <td>LP001006</td>\n",
       "      <td>1</td>\n",
       "      <td>1</td>\n",
       "      <td>0</td>\n",
       "      <td>0</td>\n",
       "      <td>0</td>\n",
       "      <td>2583</td>\n",
       "      <td>2358.0</td>\n",
       "      <td>120</td>\n",
       "      <td>360</td>\n",
       "      <td>0</td>\n",
       "      <td>1</td>\n",
       "      <td>0</td>\n",
       "      <td>1</td>\n",
       "      <td>1</td>\n",
       "    </tr>\n",
       "    <tr>\n",
       "      <th>3</th>\n",
       "      <td>LP001008</td>\n",
       "      <td>1</td>\n",
       "      <td>0</td>\n",
       "      <td>0</td>\n",
       "      <td>1</td>\n",
       "      <td>0</td>\n",
       "      <td>6000</td>\n",
       "      <td>0.0</td>\n",
       "      <td>141</td>\n",
       "      <td>360</td>\n",
       "      <td>0</td>\n",
       "      <td>1</td>\n",
       "      <td>0</td>\n",
       "      <td>1</td>\n",
       "      <td>1</td>\n",
       "    </tr>\n",
       "    <tr>\n",
       "      <th>4</th>\n",
       "      <td>LP001011</td>\n",
       "      <td>1</td>\n",
       "      <td>1</td>\n",
       "      <td>2</td>\n",
       "      <td>1</td>\n",
       "      <td>1</td>\n",
       "      <td>5417</td>\n",
       "      <td>4196.0</td>\n",
       "      <td>267</td>\n",
       "      <td>360</td>\n",
       "      <td>0</td>\n",
       "      <td>1</td>\n",
       "      <td>0</td>\n",
       "      <td>1</td>\n",
       "      <td>1</td>\n",
       "    </tr>\n",
       "  </tbody>\n",
       "</table>\n",
       "</div>"
      ],
      "text/plain": [
       "    Loan_ID  ismale  married dependents  education  self-employed  \\\n",
       "0  LP001003       1        1          1          1              0   \n",
       "1  LP001005       1        1          0          1              1   \n",
       "2  LP001006       1        1          0          0              0   \n",
       "3  LP001008       1        0          0          1              0   \n",
       "4  LP001011       1        1          2          1              1   \n",
       "\n",
       "   applicant_inc  spouse_inc  amount  time  rural_p  urban_p  semiurban_p  \\\n",
       "0           4583      1508.0     128   360        1        0            0   \n",
       "1           3000         0.0      66   360        0        1            0   \n",
       "2           2583      2358.0     120   360        0        1            0   \n",
       "3           6000         0.0     141   360        0        1            0   \n",
       "4           5417      4196.0     267   360        0        1            0   \n",
       "\n",
       "   history  status  \n",
       "0        1       0  \n",
       "1        1       1  \n",
       "2        1       1  \n",
       "3        1       1  \n",
       "4        1       1  "
      ]
     },
     "execution_count": 9,
     "metadata": {},
     "output_type": "execute_result"
    }
   ],
   "source": [
    "# confirming it's the right dataset by head and tail functions\n",
    "df.head()"
   ]
  },
  {
   "cell_type": "code",
   "execution_count": 10,
   "id": "65022205",
   "metadata": {},
   "outputs": [
    {
     "data": {
      "text/html": [
       "<div>\n",
       "<style scoped>\n",
       "    .dataframe tbody tr th:only-of-type {\n",
       "        vertical-align: middle;\n",
       "    }\n",
       "\n",
       "    .dataframe tbody tr th {\n",
       "        vertical-align: top;\n",
       "    }\n",
       "\n",
       "    .dataframe thead th {\n",
       "        text-align: right;\n",
       "    }\n",
       "</style>\n",
       "<table border=\"1\" class=\"dataframe\">\n",
       "  <thead>\n",
       "    <tr style=\"text-align: right;\">\n",
       "      <th></th>\n",
       "      <th>Loan_ID</th>\n",
       "      <th>ismale</th>\n",
       "      <th>married</th>\n",
       "      <th>dependents</th>\n",
       "      <th>education</th>\n",
       "      <th>self-employed</th>\n",
       "      <th>applicant_inc</th>\n",
       "      <th>spouse_inc</th>\n",
       "      <th>amount</th>\n",
       "      <th>time</th>\n",
       "      <th>rural_p</th>\n",
       "      <th>urban_p</th>\n",
       "      <th>semiurban_p</th>\n",
       "      <th>history</th>\n",
       "      <th>status</th>\n",
       "    </tr>\n",
       "  </thead>\n",
       "  <tbody>\n",
       "    <tr>\n",
       "      <th>475</th>\n",
       "      <td>LP002978</td>\n",
       "      <td>0</td>\n",
       "      <td>0</td>\n",
       "      <td>0</td>\n",
       "      <td>1</td>\n",
       "      <td>0</td>\n",
       "      <td>2900</td>\n",
       "      <td>0.0</td>\n",
       "      <td>71</td>\n",
       "      <td>360</td>\n",
       "      <td>1</td>\n",
       "      <td>0</td>\n",
       "      <td>0</td>\n",
       "      <td>1</td>\n",
       "      <td>1</td>\n",
       "    </tr>\n",
       "    <tr>\n",
       "      <th>476</th>\n",
       "      <td>LP002979</td>\n",
       "      <td>1</td>\n",
       "      <td>1</td>\n",
       "      <td>3+</td>\n",
       "      <td>1</td>\n",
       "      <td>0</td>\n",
       "      <td>4106</td>\n",
       "      <td>0.0</td>\n",
       "      <td>40</td>\n",
       "      <td>180</td>\n",
       "      <td>1</td>\n",
       "      <td>0</td>\n",
       "      <td>0</td>\n",
       "      <td>1</td>\n",
       "      <td>1</td>\n",
       "    </tr>\n",
       "    <tr>\n",
       "      <th>477</th>\n",
       "      <td>LP002983</td>\n",
       "      <td>1</td>\n",
       "      <td>1</td>\n",
       "      <td>1</td>\n",
       "      <td>1</td>\n",
       "      <td>0</td>\n",
       "      <td>8072</td>\n",
       "      <td>240.0</td>\n",
       "      <td>253</td>\n",
       "      <td>360</td>\n",
       "      <td>0</td>\n",
       "      <td>1</td>\n",
       "      <td>0</td>\n",
       "      <td>1</td>\n",
       "      <td>1</td>\n",
       "    </tr>\n",
       "    <tr>\n",
       "      <th>478</th>\n",
       "      <td>LP002984</td>\n",
       "      <td>1</td>\n",
       "      <td>1</td>\n",
       "      <td>2</td>\n",
       "      <td>1</td>\n",
       "      <td>0</td>\n",
       "      <td>7583</td>\n",
       "      <td>0.0</td>\n",
       "      <td>187</td>\n",
       "      <td>360</td>\n",
       "      <td>0</td>\n",
       "      <td>1</td>\n",
       "      <td>0</td>\n",
       "      <td>1</td>\n",
       "      <td>1</td>\n",
       "    </tr>\n",
       "    <tr>\n",
       "      <th>479</th>\n",
       "      <td>LP002990</td>\n",
       "      <td>0</td>\n",
       "      <td>0</td>\n",
       "      <td>0</td>\n",
       "      <td>1</td>\n",
       "      <td>1</td>\n",
       "      <td>4583</td>\n",
       "      <td>0.0</td>\n",
       "      <td>133</td>\n",
       "      <td>360</td>\n",
       "      <td>0</td>\n",
       "      <td>0</td>\n",
       "      <td>1</td>\n",
       "      <td>0</td>\n",
       "      <td>0</td>\n",
       "    </tr>\n",
       "  </tbody>\n",
       "</table>\n",
       "</div>"
      ],
      "text/plain": [
       "      Loan_ID  ismale  married dependents  education  self-employed  \\\n",
       "475  LP002978       0        0          0          1              0   \n",
       "476  LP002979       1        1         3+          1              0   \n",
       "477  LP002983       1        1          1          1              0   \n",
       "478  LP002984       1        1          2          1              0   \n",
       "479  LP002990       0        0          0          1              1   \n",
       "\n",
       "     applicant_inc  spouse_inc  amount  time  rural_p  urban_p  semiurban_p  \\\n",
       "475           2900         0.0      71   360        1        0            0   \n",
       "476           4106         0.0      40   180        1        0            0   \n",
       "477           8072       240.0     253   360        0        1            0   \n",
       "478           7583         0.0     187   360        0        1            0   \n",
       "479           4583         0.0     133   360        0        0            1   \n",
       "\n",
       "     history  status  \n",
       "475        1       1  \n",
       "476        1       1  \n",
       "477        1       1  \n",
       "478        1       1  \n",
       "479        0       0  "
      ]
     },
     "execution_count": 10,
     "metadata": {},
     "output_type": "execute_result"
    }
   ],
   "source": [
    "df.tail()"
   ]
  },
  {
   "cell_type": "code",
   "execution_count": 11,
   "id": "e1f8d701",
   "metadata": {},
   "outputs": [
    {
     "data": {
      "text/plain": [
       "Index(['Loan_ID', 'ismale', 'married', 'dependents', 'education',\n",
       "       'self-employed', 'applicant_inc', 'spouse_inc', 'amount', 'time',\n",
       "       'rural_p', 'urban_p', 'semiurban_p', 'history', 'status'],\n",
       "      dtype='object')"
      ]
     },
     "execution_count": 11,
     "metadata": {},
     "output_type": "execute_result"
    }
   ],
   "source": [
    "df.columns"
   ]
  },
  {
   "cell_type": "code",
   "execution_count": 12,
   "id": "1c9c233f",
   "metadata": {},
   "outputs": [
    {
     "data": {
      "text/plain": [
       "(480, 15)"
      ]
     },
     "execution_count": 12,
     "metadata": {},
     "output_type": "execute_result"
    }
   ],
   "source": [
    "# finding the number of rows and columns \n",
    "df.shape"
   ]
  },
  {
   "cell_type": "code",
   "execution_count": 13,
   "id": "ce74210b",
   "metadata": {},
   "outputs": [
    {
     "name": "stdout",
     "output_type": "stream",
     "text": [
      "<class 'pandas.core.frame.DataFrame'>\n",
      "RangeIndex: 480 entries, 0 to 479\n",
      "Data columns (total 15 columns):\n",
      " #   Column         Non-Null Count  Dtype  \n",
      "---  ------         --------------  -----  \n",
      " 0   Loan_ID        480 non-null    object \n",
      " 1   ismale         480 non-null    int64  \n",
      " 2   married        480 non-null    int64  \n",
      " 3   dependents     480 non-null    object \n",
      " 4   education      480 non-null    int64  \n",
      " 5   self-employed  480 non-null    int64  \n",
      " 6   applicant_inc  480 non-null    int64  \n",
      " 7   spouse_inc     480 non-null    float64\n",
      " 8   amount         480 non-null    int64  \n",
      " 9   time           480 non-null    int64  \n",
      " 10  rural_p        480 non-null    int64  \n",
      " 11  urban_p        480 non-null    int64  \n",
      " 12  semiurban_p    480 non-null    int64  \n",
      " 13  history        480 non-null    int64  \n",
      " 14  status         480 non-null    int64  \n",
      "dtypes: float64(1), int64(12), object(2)\n",
      "memory usage: 56.4+ KB\n"
     ]
    }
   ],
   "source": [
    "df.info()"
   ]
  },
  {
   "cell_type": "code",
   "execution_count": 14,
   "id": "9d135526",
   "metadata": {},
   "outputs": [
    {
     "data": {
      "text/plain": [
       "Loan_ID          0\n",
       "ismale           0\n",
       "married          0\n",
       "dependents       0\n",
       "education        0\n",
       "self-employed    0\n",
       "applicant_inc    0\n",
       "spouse_inc       0\n",
       "amount           0\n",
       "time             0\n",
       "rural_p          0\n",
       "urban_p          0\n",
       "semiurban_p      0\n",
       "history          0\n",
       "status           0\n",
       "dtype: int64"
      ]
     },
     "execution_count": 14,
     "metadata": {},
     "output_type": "execute_result"
    }
   ],
   "source": [
    "# looking for null values\n",
    "df.isnull().sum()"
   ]
  },
  {
   "cell_type": "code",
   "execution_count": 15,
   "id": "4cd46d36",
   "metadata": {},
   "outputs": [
    {
     "data": {
      "text/html": [
       "<div>\n",
       "<style scoped>\n",
       "    .dataframe tbody tr th:only-of-type {\n",
       "        vertical-align: middle;\n",
       "    }\n",
       "\n",
       "    .dataframe tbody tr th {\n",
       "        vertical-align: top;\n",
       "    }\n",
       "\n",
       "    .dataframe thead th {\n",
       "        text-align: right;\n",
       "    }\n",
       "</style>\n",
       "<table border=\"1\" class=\"dataframe\">\n",
       "  <thead>\n",
       "    <tr style=\"text-align: right;\">\n",
       "      <th></th>\n",
       "      <th>ismale</th>\n",
       "      <th>married</th>\n",
       "      <th>education</th>\n",
       "      <th>self-employed</th>\n",
       "      <th>applicant_inc</th>\n",
       "      <th>spouse_inc</th>\n",
       "      <th>amount</th>\n",
       "      <th>time</th>\n",
       "      <th>rural_p</th>\n",
       "      <th>urban_p</th>\n",
       "      <th>semiurban_p</th>\n",
       "      <th>history</th>\n",
       "      <th>status</th>\n",
       "    </tr>\n",
       "  </thead>\n",
       "  <tbody>\n",
       "    <tr>\n",
       "      <th>count</th>\n",
       "      <td>480.000000</td>\n",
       "      <td>480.000000</td>\n",
       "      <td>480.000000</td>\n",
       "      <td>480.000000</td>\n",
       "      <td>480.000000</td>\n",
       "      <td>480.000000</td>\n",
       "      <td>480.000000</td>\n",
       "      <td>480.000000</td>\n",
       "      <td>480.000000</td>\n",
       "      <td>480.000000</td>\n",
       "      <td>480.000000</td>\n",
       "      <td>480.000000</td>\n",
       "      <td>480.000000</td>\n",
       "    </tr>\n",
       "    <tr>\n",
       "      <th>mean</th>\n",
       "      <td>0.820833</td>\n",
       "      <td>0.647917</td>\n",
       "      <td>0.797917</td>\n",
       "      <td>0.137500</td>\n",
       "      <td>5364.231250</td>\n",
       "      <td>1581.093583</td>\n",
       "      <td>144.735417</td>\n",
       "      <td>342.050000</td>\n",
       "      <td>0.289583</td>\n",
       "      <td>0.312500</td>\n",
       "      <td>0.397917</td>\n",
       "      <td>0.854167</td>\n",
       "      <td>0.691667</td>\n",
       "    </tr>\n",
       "    <tr>\n",
       "      <th>std</th>\n",
       "      <td>0.383892</td>\n",
       "      <td>0.478118</td>\n",
       "      <td>0.401973</td>\n",
       "      <td>0.344734</td>\n",
       "      <td>5668.251251</td>\n",
       "      <td>2617.692267</td>\n",
       "      <td>80.508164</td>\n",
       "      <td>65.212401</td>\n",
       "      <td>0.454042</td>\n",
       "      <td>0.463996</td>\n",
       "      <td>0.489979</td>\n",
       "      <td>0.353307</td>\n",
       "      <td>0.462287</td>\n",
       "    </tr>\n",
       "    <tr>\n",
       "      <th>min</th>\n",
       "      <td>0.000000</td>\n",
       "      <td>0.000000</td>\n",
       "      <td>0.000000</td>\n",
       "      <td>0.000000</td>\n",
       "      <td>150.000000</td>\n",
       "      <td>0.000000</td>\n",
       "      <td>9.000000</td>\n",
       "      <td>36.000000</td>\n",
       "      <td>0.000000</td>\n",
       "      <td>0.000000</td>\n",
       "      <td>0.000000</td>\n",
       "      <td>0.000000</td>\n",
       "      <td>0.000000</td>\n",
       "    </tr>\n",
       "    <tr>\n",
       "      <th>25%</th>\n",
       "      <td>1.000000</td>\n",
       "      <td>0.000000</td>\n",
       "      <td>1.000000</td>\n",
       "      <td>0.000000</td>\n",
       "      <td>2898.750000</td>\n",
       "      <td>0.000000</td>\n",
       "      <td>100.000000</td>\n",
       "      <td>360.000000</td>\n",
       "      <td>0.000000</td>\n",
       "      <td>0.000000</td>\n",
       "      <td>0.000000</td>\n",
       "      <td>1.000000</td>\n",
       "      <td>0.000000</td>\n",
       "    </tr>\n",
       "    <tr>\n",
       "      <th>50%</th>\n",
       "      <td>1.000000</td>\n",
       "      <td>1.000000</td>\n",
       "      <td>1.000000</td>\n",
       "      <td>0.000000</td>\n",
       "      <td>3859.000000</td>\n",
       "      <td>1084.500000</td>\n",
       "      <td>128.000000</td>\n",
       "      <td>360.000000</td>\n",
       "      <td>0.000000</td>\n",
       "      <td>0.000000</td>\n",
       "      <td>0.000000</td>\n",
       "      <td>1.000000</td>\n",
       "      <td>1.000000</td>\n",
       "    </tr>\n",
       "    <tr>\n",
       "      <th>75%</th>\n",
       "      <td>1.000000</td>\n",
       "      <td>1.000000</td>\n",
       "      <td>1.000000</td>\n",
       "      <td>0.000000</td>\n",
       "      <td>5852.500000</td>\n",
       "      <td>2253.250000</td>\n",
       "      <td>170.000000</td>\n",
       "      <td>360.000000</td>\n",
       "      <td>1.000000</td>\n",
       "      <td>1.000000</td>\n",
       "      <td>1.000000</td>\n",
       "      <td>1.000000</td>\n",
       "      <td>1.000000</td>\n",
       "    </tr>\n",
       "    <tr>\n",
       "      <th>max</th>\n",
       "      <td>1.000000</td>\n",
       "      <td>1.000000</td>\n",
       "      <td>1.000000</td>\n",
       "      <td>1.000000</td>\n",
       "      <td>81000.000000</td>\n",
       "      <td>33837.000000</td>\n",
       "      <td>600.000000</td>\n",
       "      <td>480.000000</td>\n",
       "      <td>1.000000</td>\n",
       "      <td>1.000000</td>\n",
       "      <td>1.000000</td>\n",
       "      <td>1.000000</td>\n",
       "      <td>1.000000</td>\n",
       "    </tr>\n",
       "  </tbody>\n",
       "</table>\n",
       "</div>"
      ],
      "text/plain": [
       "           ismale     married   education  self-employed  applicant_inc  \\\n",
       "count  480.000000  480.000000  480.000000     480.000000     480.000000   \n",
       "mean     0.820833    0.647917    0.797917       0.137500    5364.231250   \n",
       "std      0.383892    0.478118    0.401973       0.344734    5668.251251   \n",
       "min      0.000000    0.000000    0.000000       0.000000     150.000000   \n",
       "25%      1.000000    0.000000    1.000000       0.000000    2898.750000   \n",
       "50%      1.000000    1.000000    1.000000       0.000000    3859.000000   \n",
       "75%      1.000000    1.000000    1.000000       0.000000    5852.500000   \n",
       "max      1.000000    1.000000    1.000000       1.000000   81000.000000   \n",
       "\n",
       "         spouse_inc      amount        time     rural_p     urban_p  \\\n",
       "count    480.000000  480.000000  480.000000  480.000000  480.000000   \n",
       "mean    1581.093583  144.735417  342.050000    0.289583    0.312500   \n",
       "std     2617.692267   80.508164   65.212401    0.454042    0.463996   \n",
       "min        0.000000    9.000000   36.000000    0.000000    0.000000   \n",
       "25%        0.000000  100.000000  360.000000    0.000000    0.000000   \n",
       "50%     1084.500000  128.000000  360.000000    0.000000    0.000000   \n",
       "75%     2253.250000  170.000000  360.000000    1.000000    1.000000   \n",
       "max    33837.000000  600.000000  480.000000    1.000000    1.000000   \n",
       "\n",
       "       semiurban_p     history      status  \n",
       "count   480.000000  480.000000  480.000000  \n",
       "mean      0.397917    0.854167    0.691667  \n",
       "std       0.489979    0.353307    0.462287  \n",
       "min       0.000000    0.000000    0.000000  \n",
       "25%       0.000000    1.000000    0.000000  \n",
       "50%       0.000000    1.000000    1.000000  \n",
       "75%       1.000000    1.000000    1.000000  \n",
       "max       1.000000    1.000000    1.000000  "
      ]
     },
     "execution_count": 15,
     "metadata": {},
     "output_type": "execute_result"
    }
   ],
   "source": [
    "df.describe()"
   ]
  },
  {
   "cell_type": "code",
   "execution_count": null,
   "id": "ccc41b34",
   "metadata": {},
   "outputs": [],
   "source": [
    "df=df.drop(['Loan_ID'])"
   ]
  },
  {
   "cell_type": "code",
   "execution_count": 55,
   "id": "6381fa48",
   "metadata": {},
   "outputs": [
    {
     "data": {
      "image/png": "[encoded data removed]",
      "text/plain": [
       "<Figure size 720x576 with 2 Axes>"
      ]
     },
     "metadata": {
      "needs_background": "light"
     },
     "output_type": "display_data"
    }
   ],
   "source": [
    "# correlation heatmap\n",
    "plt.figure(figsize=(10,8))\n",
    "sns.heatmap(df.corr(), annot=True)\n",
    "plt.show()"
   ]
  },
  {
   "cell_type": "markdown",
   "id": "48c52d04",
   "metadata": {},
   "source": [
    "### Data Visualization"
   ]
  },
  {
   "cell_type": "code",
   "execution_count": 57,
   "id": "09c53483",
   "metadata": {},
   "outputs": [
    {
     "data": {
      "text/plain": [
       "<AxesSubplot:xlabel='status', ylabel='count'>"
      ]
     },
     "execution_count": 57,
     "metadata": {},
     "output_type": "execute_result"
    },
    {
     "data": {
      "image/png": "[encoded data removed]",
      "text/plain": [
       "<Figure size 432x288 with 1 Axes>"
      ]
     },
     "metadata": {
      "needs_background": "light"
     },
     "output_type": "display_data"
    }
   ],
   "source": [
    "# properties of loan status \n",
    "sns.countplot(df['status'])"
   ]
  },
  {
   "cell_type": "code",
   "execution_count": 58,
   "id": "7a3a7652",
   "metadata": {},
   "outputs": [
    {
     "data": {
      "text/plain": [
       "1    332\n",
       "0    148\n",
       "Name: status, dtype: int64"
      ]
     },
     "execution_count": 58,
     "metadata": {},
     "output_type": "execute_result"
    }
   ],
   "source": [
    "df['status'].value_counts()"
   ]
  },
  {
   "cell_type": "markdown",
   "id": "17ac83d1",
   "metadata": {},
   "source": [
    "Visualizing the different factors distributions in relation to loan status."
   ]
  },
  {
   "cell_type": "code",
   "execution_count": 59,
   "id": "c4e31f86",
   "metadata": {
    "scrolled": true
   },
   "outputs": [
    {
     "data": {
      "image/png": "[encoded data removed]",
      "text/plain": [
       "<Figure size 576x432 with 1 Axes>"
      ]
     },
     "metadata": {
      "needs_background": "light"
     },
     "output_type": "display_data"
    }
   ],
   "source": [
    "plt.figure(figsize=(8,6))\n",
    "sns.countplot(x='married', hue='status', data=df);"
   ]
  },
  {
   "cell_type": "code",
   "execution_count": 60,
   "id": "1ebe763c",
   "metadata": {},
   "outputs": [
    {
     "data": {
      "text/plain": [
       "1    311\n",
       "0    169\n",
       "Name: married, dtype: int64"
      ]
     },
     "execution_count": 60,
     "metadata": {},
     "output_type": "execute_result"
    }
   ],
   "source": [
    "# value distribution of marriage status\n",
    "df['married'].value_counts()\n"
   ]
  },
  {
   "cell_type": "code",
   "execution_count": 28,
   "id": "ebeba3cf",
   "metadata": {},
   "outputs": [
    {
     "data": {
      "image/png": "[encoded data removed]",
      "text/plain": [
       "<Figure size 576x432 with 1 Axes>"
      ]
     },
     "metadata": {
      "needs_background": "light"
     },
     "output_type": "display_data"
    }
   ],
   "source": [
    "plt.figure(figsize=(8,6))\n",
    "sns.countplot(x='dependents', hue='status', data=df);"
   ]
  },
  {
   "cell_type": "code",
   "execution_count": 29,
   "id": "2135aa51",
   "metadata": {},
   "outputs": [
    {
     "data": {
      "image/png": "[encoded data removed]",
      "text/plain": [
       "<Figure size 576x432 with 1 Axes>"
      ]
     },
     "metadata": {
      "needs_background": "light"
     },
     "output_type": "display_data"
    }
   ],
   "source": [
    "plt.figure(figsize=(8,6))\n",
    "sns.countplot(x='rural_p', hue='status', data=df);"
   ]
  },
  {
   "cell_type": "code",
   "execution_count": 61,
   "id": "7ab7fb02",
   "metadata": {},
   "outputs": [
    {
     "data": {
      "image/png": "[encoded data removed]",
      "text/plain": [
       "<Figure size 576x432 with 1 Axes>"
      ]
     },
     "metadata": {
      "needs_background": "light"
     },
     "output_type": "display_data"
    }
   ],
   "source": [
    "plt.figure(figsize=(8,6))\n",
    "sns.countplot(x='semiurban_p', hue='status', data=df);"
   ]
  },
  {
   "cell_type": "code",
   "execution_count": 31,
   "id": "832ca9d8",
   "metadata": {},
   "outputs": [
    {
     "data": {
      "image/png": "[encoded data removed]",
      "text/plain": [
       "<Figure size 576x432 with 1 Axes>"
      ]
     },
     "metadata": {
      "needs_background": "light"
     },
     "output_type": "display_data"
    }
   ],
   "source": [
    "plt.figure(figsize=(8,6))\n",
    "sns.countplot(x='urban_p', hue='status', data=df);"
   ]
  },
  {
   "cell_type": "code",
   "execution_count": 62,
   "id": "a8a6ba64",
   "metadata": {},
   "outputs": [
    {
     "data": {
      "image/png": "[encoded data removed]",
      "text/plain": [
       "<Figure size 576x432 with 1 Axes>"
      ]
     },
     "metadata": {
      "needs_background": "light"
     },
     "output_type": "display_data"
    }
   ],
   "source": [
    "plt.figure(figsize=(8,6))\n",
    "sns.countplot(x='education', hue='status', data=df);"
   ]
  },
  {
   "cell_type": "code",
   "execution_count": 34,
   "id": "3cce00c9",
   "metadata": {},
   "outputs": [
    {
     "data": {
      "image/png": "[encoded data removed]",
      "text/plain": [
       "<Figure size 576x432 with 1 Axes>"
      ]
     },
     "metadata": {
      "needs_background": "light"
     },
     "output_type": "display_data"
    }
   ],
   "source": [
    "plt.figure(figsize=(8,6))\n",
    "sns.countplot(x='self-employed', hue='status', data=df);"
   ]
  },
  {
   "cell_type": "markdown",
   "id": "2044dc0b",
   "metadata": {},
   "source": [
    "### Observations\n",
    "1. Most of the married applicants had a higher chance of being awarded loans compared to their unmaried counterparts.\n",
    "2. The applicants with less or no dependets at all had a higher probability of being awarded a loan compared to those with many dependents.\n",
    "3. Applicants with properties in the semiurban settings had a higher likelyhood of getting loan compared to those in rural and urban setting.\n",
    "4. Graduates have a higher chance of recieving loans than ungraduates.\n",
    "5. Applicants who are not self-employed are more likely to recieve loans compared to the self-employed once."
   ]
  },
  {
   "cell_type": "code",
   "execution_count": 74,
   "id": "d3ef8403",
   "metadata": {},
   "outputs": [
    {
     "data": {
      "text/html": [
       "<div>\n",
       "<style scoped>\n",
       "    .dataframe tbody tr th:only-of-type {\n",
       "        vertical-align: middle;\n",
       "    }\n",
       "\n",
       "    .dataframe tbody tr th {\n",
       "        vertical-align: top;\n",
       "    }\n",
       "\n",
       "    .dataframe thead th {\n",
       "        text-align: right;\n",
       "    }\n",
       "</style>\n",
       "<table border=\"1\" class=\"dataframe\">\n",
       "  <thead>\n",
       "    <tr style=\"text-align: right;\">\n",
       "      <th></th>\n",
       "      <th>ismale</th>\n",
       "      <th>married</th>\n",
       "      <th>education</th>\n",
       "      <th>self-employed</th>\n",
       "      <th>applicant_inc</th>\n",
       "      <th>spouse_inc</th>\n",
       "      <th>amount</th>\n",
       "      <th>time</th>\n",
       "      <th>rural_p</th>\n",
       "      <th>urban_p</th>\n",
       "      <th>semiurban_p</th>\n",
       "      <th>history</th>\n",
       "      <th>status</th>\n",
       "    </tr>\n",
       "  </thead>\n",
       "  <tbody>\n",
       "    <tr>\n",
       "      <th>ismale</th>\n",
       "      <td>1.000000</td>\n",
       "      <td>0.349424</td>\n",
       "      <td>-0.059245</td>\n",
       "      <td>-0.002761</td>\n",
       "      <td>0.032644</td>\n",
       "      <td>0.156171</td>\n",
       "      <td>0.098975</td>\n",
       "      <td>-0.088704</td>\n",
       "      <td>0.058739</td>\n",
       "      <td>0.057137</td>\n",
       "      <td>-0.108538</td>\n",
       "      <td>0.022447</td>\n",
       "      <td>0.064504</td>\n",
       "    </tr>\n",
       "    <tr>\n",
       "      <th>married</th>\n",
       "      <td>0.349424</td>\n",
       "      <td>1.000000</td>\n",
       "      <td>-0.001652</td>\n",
       "      <td>0.015674</td>\n",
       "      <td>0.036717</td>\n",
       "      <td>0.102950</td>\n",
       "      <td>0.183442</td>\n",
       "      <td>-0.107504</td>\n",
       "      <td>-0.039048</td>\n",
       "      <td>0.026467</td>\n",
       "      <td>0.011121</td>\n",
       "      <td>0.029095</td>\n",
       "      <td>0.112321</td>\n",
       "    </tr>\n",
       "    <tr>\n",
       "      <th>education</th>\n",
       "      <td>-0.059245</td>\n",
       "      <td>-0.001652</td>\n",
       "      <td>1.000000</td>\n",
       "      <td>0.005085</td>\n",
       "      <td>0.131172</td>\n",
       "      <td>0.074499</td>\n",
       "      <td>0.172780</td>\n",
       "      <td>0.102168</td>\n",
       "      <td>-0.067607</td>\n",
       "      <td>0.025884</td>\n",
       "      <td>0.038137</td>\n",
       "      <td>0.056656</td>\n",
       "      <td>0.068437</td>\n",
       "    </tr>\n",
       "    <tr>\n",
       "      <th>self-employed</th>\n",
       "      <td>-0.002761</td>\n",
       "      <td>0.015674</td>\n",
       "      <td>0.005085</td>\n",
       "      <td>1.000000</td>\n",
       "      <td>0.170785</td>\n",
       "      <td>-0.001509</td>\n",
       "      <td>0.120389</td>\n",
       "      <td>-0.034852</td>\n",
       "      <td>0.051851</td>\n",
       "      <td>-0.034261</td>\n",
       "      <td>-0.015604</td>\n",
       "      <td>-0.023568</td>\n",
       "      <td>-0.034715</td>\n",
       "    </tr>\n",
       "    <tr>\n",
       "      <th>applicant_inc</th>\n",
       "      <td>0.032644</td>\n",
       "      <td>0.036717</td>\n",
       "      <td>0.131172</td>\n",
       "      <td>0.170785</td>\n",
       "      <td>1.000000</td>\n",
       "      <td>-0.112588</td>\n",
       "      <td>0.495310</td>\n",
       "      <td>-0.010838</td>\n",
       "      <td>0.045154</td>\n",
       "      <td>-0.044767</td>\n",
       "      <td>0.000551</td>\n",
       "      <td>-0.056152</td>\n",
       "      <td>-0.043152</td>\n",
       "    </tr>\n",
       "    <tr>\n",
       "      <th>spouse_inc</th>\n",
       "      <td>0.156171</td>\n",
       "      <td>0.102950</td>\n",
       "      <td>0.074499</td>\n",
       "      <td>-0.001509</td>\n",
       "      <td>-0.112588</td>\n",
       "      <td>1.000000</td>\n",
       "      <td>0.190740</td>\n",
       "      <td>-0.005775</td>\n",
       "      <td>-0.001101</td>\n",
       "      <td>0.009866</td>\n",
       "      <td>-0.008322</td>\n",
       "      <td>-0.008692</td>\n",
       "      <td>-0.049020</td>\n",
       "    </tr>\n",
       "    <tr>\n",
       "      <th>amount</th>\n",
       "      <td>0.098975</td>\n",
       "      <td>0.183442</td>\n",
       "      <td>0.172780</td>\n",
       "      <td>0.120389</td>\n",
       "      <td>0.495310</td>\n",
       "      <td>0.190740</td>\n",
       "      <td>1.000000</td>\n",
       "      <td>0.050867</td>\n",
       "      <td>0.086569</td>\n",
       "      <td>-0.098826</td>\n",
       "      <td>0.013365</td>\n",
       "      <td>-0.040773</td>\n",
       "      <td>-0.071753</td>\n",
       "    </tr>\n",
       "    <tr>\n",
       "      <th>time</th>\n",
       "      <td>-0.088704</td>\n",
       "      <td>-0.107504</td>\n",
       "      <td>0.102168</td>\n",
       "      <td>-0.034852</td>\n",
       "      <td>-0.010838</td>\n",
       "      <td>-0.005775</td>\n",
       "      <td>0.050867</td>\n",
       "      <td>1.000000</td>\n",
       "      <td>0.033777</td>\n",
       "      <td>-0.065097</td>\n",
       "      <td>0.030346</td>\n",
       "      <td>0.032937</td>\n",
       "      <td>-0.007798</td>\n",
       "    </tr>\n",
       "    <tr>\n",
       "      <th>rural_p</th>\n",
       "      <td>0.058739</td>\n",
       "      <td>-0.039048</td>\n",
       "      <td>-0.067607</td>\n",
       "      <td>0.051851</td>\n",
       "      <td>0.045154</td>\n",
       "      <td>-0.001101</td>\n",
       "      <td>0.086569</td>\n",
       "      <td>0.033777</td>\n",
       "      <td>1.000000</td>\n",
       "      <td>-0.430446</td>\n",
       "      <td>-0.519037</td>\n",
       "      <td>-0.022504</td>\n",
       "      <td>-0.110817</td>\n",
       "    </tr>\n",
       "    <tr>\n",
       "      <th>urban_p</th>\n",
       "      <td>0.057137</td>\n",
       "      <td>0.026467</td>\n",
       "      <td>0.025884</td>\n",
       "      <td>-0.034261</td>\n",
       "      <td>-0.044767</td>\n",
       "      <td>0.009866</td>\n",
       "      <td>-0.098826</td>\n",
       "      <td>-0.065097</td>\n",
       "      <td>-0.430446</td>\n",
       "      <td>1.000000</td>\n",
       "      <td>-0.548096</td>\n",
       "      <td>-0.027062</td>\n",
       "      <td>-0.055964</td>\n",
       "    </tr>\n",
       "    <tr>\n",
       "      <th>semiurban_p</th>\n",
       "      <td>-0.108538</td>\n",
       "      <td>0.011121</td>\n",
       "      <td>0.038137</td>\n",
       "      <td>-0.015604</td>\n",
       "      <td>0.000551</td>\n",
       "      <td>-0.008322</td>\n",
       "      <td>0.013365</td>\n",
       "      <td>0.030346</td>\n",
       "      <td>-0.519037</td>\n",
       "      <td>-0.548096</td>\n",
       "      <td>1.000000</td>\n",
       "      <td>0.046480</td>\n",
       "      <td>0.155686</td>\n",
       "    </tr>\n",
       "    <tr>\n",
       "      <th>history</th>\n",
       "      <td>0.022447</td>\n",
       "      <td>0.029095</td>\n",
       "      <td>0.056656</td>\n",
       "      <td>-0.023568</td>\n",
       "      <td>-0.056152</td>\n",
       "      <td>-0.008692</td>\n",
       "      <td>-0.040773</td>\n",
       "      <td>0.032937</td>\n",
       "      <td>-0.022504</td>\n",
       "      <td>-0.027062</td>\n",
       "      <td>0.046480</td>\n",
       "      <td>1.000000</td>\n",
       "      <td>0.529390</td>\n",
       "    </tr>\n",
       "    <tr>\n",
       "      <th>status</th>\n",
       "      <td>0.064504</td>\n",
       "      <td>0.112321</td>\n",
       "      <td>0.068437</td>\n",
       "      <td>-0.034715</td>\n",
       "      <td>-0.043152</td>\n",
       "      <td>-0.049020</td>\n",
       "      <td>-0.071753</td>\n",
       "      <td>-0.007798</td>\n",
       "      <td>-0.110817</td>\n",
       "      <td>-0.055964</td>\n",
       "      <td>0.155686</td>\n",
       "      <td>0.529390</td>\n",
       "      <td>1.000000</td>\n",
       "    </tr>\n",
       "  </tbody>\n",
       "</table>\n",
       "</div>"
      ],
      "text/plain": [
       "                 ismale   married  education  self-employed  applicant_inc  \\\n",
       "ismale         1.000000  0.349424  -0.059245      -0.002761       0.032644   \n",
       "married        0.349424  1.000000  -0.001652       0.015674       0.036717   \n",
       "education     -0.059245 -0.001652   1.000000       0.005085       0.131172   \n",
       "self-employed -0.002761  0.015674   0.005085       1.000000       0.170785   \n",
       "applicant_inc  0.032644  0.036717   0.131172       0.170785       1.000000   \n",
       "spouse_inc     0.156171  0.102950   0.074499      -0.001509      -0.112588   \n",
       "amount         0.098975  0.183442   0.172780       0.120389       0.495310   \n",
       "time          -0.088704 -0.107504   0.102168      -0.034852      -0.010838   \n",
       "rural_p        0.058739 -0.039048  -0.067607       0.051851       0.045154   \n",
       "urban_p        0.057137  0.026467   0.025884      -0.034261      -0.044767   \n",
       "semiurban_p   -0.108538  0.011121   0.038137      -0.015604       0.000551   \n",
       "history        0.022447  0.029095   0.056656      -0.023568      -0.056152   \n",
       "status         0.064504  0.112321   0.068437      -0.034715      -0.043152   \n",
       "\n",
       "               spouse_inc    amount      time   rural_p   urban_p  \\\n",
       "ismale           0.156171  0.098975 -0.088704  0.058739  0.057137   \n",
       "married          0.102950  0.183442 -0.107504 -0.039048  0.026467   \n",
       "education        0.074499  0.172780  0.102168 -0.067607  0.025884   \n",
       "self-employed   -0.001509  0.120389 -0.034852  0.051851 -0.034261   \n",
       "applicant_inc   -0.112588  0.495310 -0.010838  0.045154 -0.044767   \n",
       "spouse_inc       1.000000  0.190740 -0.005775 -0.001101  0.009866   \n",
       "amount           0.190740  1.000000  0.050867  0.086569 -0.098826   \n",
       "time            -0.005775  0.050867  1.000000  0.033777 -0.065097   \n",
       "rural_p         -0.001101  0.086569  0.033777  1.000000 -0.430446   \n",
       "urban_p          0.009866 -0.098826 -0.065097 -0.430446  1.000000   \n",
       "semiurban_p     -0.008322  0.013365  0.030346 -0.519037 -0.548096   \n",
       "history         -0.008692 -0.040773  0.032937 -0.022504 -0.027062   \n",
       "status          -0.049020 -0.071753 -0.007798 -0.110817 -0.055964   \n",
       "\n",
       "               semiurban_p   history    status  \n",
       "ismale           -0.108538  0.022447  0.064504  \n",
       "married           0.011121  0.029095  0.112321  \n",
       "education         0.038137  0.056656  0.068437  \n",
       "self-employed    -0.015604 -0.023568 -0.034715  \n",
       "applicant_inc     0.000551 -0.056152 -0.043152  \n",
       "spouse_inc       -0.008322 -0.008692 -0.049020  \n",
       "amount            0.013365 -0.040773 -0.071753  \n",
       "time              0.030346  0.032937 -0.007798  \n",
       "rural_p          -0.519037 -0.022504 -0.110817  \n",
       "urban_p          -0.548096 -0.027062 -0.055964  \n",
       "semiurban_p       1.000000  0.046480  0.155686  \n",
       "history           0.046480  1.000000  0.529390  \n",
       "status            0.155686  0.529390  1.000000  "
      ]
     },
     "execution_count": 74,
     "metadata": {},
     "output_type": "execute_result"
    }
   ],
   "source": [
    "df.corr()"
   ]
  },
  {
   "cell_type": "code",
   "execution_count": 73,
   "id": "a86bef2a",
   "metadata": {},
   "outputs": [
    {
     "data": {
      "text/plain": [
       "<AxesSubplot:>"
      ]
     },
     "execution_count": 73,
     "metadata": {},
     "output_type": "execute_result"
    },
    {
     "data": {
      "image/png": "[encoded data removed]",
      "text/plain": [
       "<Figure size 432x288 with 2 Axes>"
      ]
     },
     "metadata": {
      "needs_background": "light"
     },
     "output_type": "display_data"
    }
   ],
   "source": [
    "sns.heatmap(df.corr())"
   ]
  },
  {
   "cell_type": "markdown",
   "id": "fc8c42c2",
   "metadata": {},
   "source": [
    "### Classifcation Models"
   ]
  },
  {
   "cell_type": "code",
   "execution_count": 101,
   "id": "d528be83",
   "metadata": {},
   "outputs": [],
   "source": [
    "import pandas as pd\n",
    "\n",
    "from sklearn.model_selection import train_test_split\n",
    "from sklearn.dummy import DummyClassifier\n",
    "from sklearn.linear_model import LogisticRegression\n",
    "from sklearn.tree import DecisionTreeClassifier\n",
    "from sklearn.ensemble import RandomForestClassifier\n",
    "from sklearn.svm import SVC\n",
    "from sklearn.naive_bayes import GaussianNB\n",
    "from sklearn.neighbors import KNeighborsClassifier\n",
    "\n",
    "from sklearn.metrics import confusion_matrix , classification_report, accuracy_score\n",
    "from sklearn.preprocessing import LabelEncoder\n",
    "le=LabelEncoder()"
   ]
  },
  {
   "cell_type": "code",
   "execution_count": 83,
   "id": "9f3e1624",
   "metadata": {},
   "outputs": [],
   "source": [
    "df=df.drop(labels=['time','applicant_inc','spouse_inc','amount'], axis=1)"
   ]
  },
  {
   "cell_type": "code",
   "execution_count": 108,
   "id": "c59907a8",
   "metadata": {},
   "outputs": [
    {
     "data": {
      "text/html": [
       "<div>\n",
       "<style scoped>\n",
       "    .dataframe tbody tr th:only-of-type {\n",
       "        vertical-align: middle;\n",
       "    }\n",
       "\n",
       "    .dataframe tbody tr th {\n",
       "        vertical-align: top;\n",
       "    }\n",
       "\n",
       "    .dataframe thead th {\n",
       "        text-align: right;\n",
       "    }\n",
       "</style>\n",
       "<table border=\"1\" class=\"dataframe\">\n",
       "  <thead>\n",
       "    <tr style=\"text-align: right;\">\n",
       "      <th></th>\n",
       "      <th>ismale</th>\n",
       "      <th>married</th>\n",
       "      <th>dependents</th>\n",
       "      <th>education</th>\n",
       "      <th>self-employed</th>\n",
       "      <th>rural_p</th>\n",
       "      <th>urban_p</th>\n",
       "      <th>semiurban_p</th>\n",
       "      <th>history</th>\n",
       "      <th>status</th>\n",
       "    </tr>\n",
       "  </thead>\n",
       "  <tbody>\n",
       "    <tr>\n",
       "      <th>0</th>\n",
       "      <td>1</td>\n",
       "      <td>1</td>\n",
       "      <td>1</td>\n",
       "      <td>1</td>\n",
       "      <td>0</td>\n",
       "      <td>1</td>\n",
       "      <td>0</td>\n",
       "      <td>0</td>\n",
       "      <td>1</td>\n",
       "      <td>0</td>\n",
       "    </tr>\n",
       "    <tr>\n",
       "      <th>1</th>\n",
       "      <td>1</td>\n",
       "      <td>1</td>\n",
       "      <td>0</td>\n",
       "      <td>1</td>\n",
       "      <td>1</td>\n",
       "      <td>0</td>\n",
       "      <td>1</td>\n",
       "      <td>0</td>\n",
       "      <td>1</td>\n",
       "      <td>1</td>\n",
       "    </tr>\n",
       "    <tr>\n",
       "      <th>2</th>\n",
       "      <td>1</td>\n",
       "      <td>1</td>\n",
       "      <td>0</td>\n",
       "      <td>0</td>\n",
       "      <td>0</td>\n",
       "      <td>0</td>\n",
       "      <td>1</td>\n",
       "      <td>0</td>\n",
       "      <td>1</td>\n",
       "      <td>1</td>\n",
       "    </tr>\n",
       "    <tr>\n",
       "      <th>3</th>\n",
       "      <td>1</td>\n",
       "      <td>0</td>\n",
       "      <td>0</td>\n",
       "      <td>1</td>\n",
       "      <td>0</td>\n",
       "      <td>0</td>\n",
       "      <td>1</td>\n",
       "      <td>0</td>\n",
       "      <td>1</td>\n",
       "      <td>1</td>\n",
       "    </tr>\n",
       "    <tr>\n",
       "      <th>4</th>\n",
       "      <td>1</td>\n",
       "      <td>1</td>\n",
       "      <td>2</td>\n",
       "      <td>1</td>\n",
       "      <td>1</td>\n",
       "      <td>0</td>\n",
       "      <td>1</td>\n",
       "      <td>0</td>\n",
       "      <td>1</td>\n",
       "      <td>1</td>\n",
       "    </tr>\n",
       "  </tbody>\n",
       "</table>\n",
       "</div>"
      ],
      "text/plain": [
       "   ismale  married  dependents  education  self-employed  rural_p  urban_p  \\\n",
       "0       1        1           1          1              0        1        0   \n",
       "1       1        1           0          1              1        0        1   \n",
       "2       1        1           0          0              0        0        1   \n",
       "3       1        0           0          1              0        0        1   \n",
       "4       1        1           2          1              1        0        1   \n",
       "\n",
       "   semiurban_p  history  status  \n",
       "0            0        1       0  \n",
       "1            0        1       1  \n",
       "2            0        1       1  \n",
       "3            0        1       1  \n",
       "4            0        1       1  "
      ]
     },
     "execution_count": 108,
     "metadata": {},
     "output_type": "execute_result"
    }
   ],
   "source": [
    "df['dependents']=le.fit_transform(df['dependents'])\n",
    "df.head()"
   ]
  },
  {
   "cell_type": "code",
   "execution_count": 109,
   "id": "90b55b92",
   "metadata": {},
   "outputs": [
    {
     "data": {
      "text/html": [
       "<div>\n",
       "<style scoped>\n",
       "    .dataframe tbody tr th:only-of-type {\n",
       "        vertical-align: middle;\n",
       "    }\n",
       "\n",
       "    .dataframe tbody tr th {\n",
       "        vertical-align: top;\n",
       "    }\n",
       "\n",
       "    .dataframe thead th {\n",
       "        text-align: right;\n",
       "    }\n",
       "</style>\n",
       "<table border=\"1\" class=\"dataframe\">\n",
       "  <thead>\n",
       "    <tr style=\"text-align: right;\">\n",
       "      <th></th>\n",
       "      <th>ismale</th>\n",
       "      <th>married</th>\n",
       "      <th>dependents</th>\n",
       "      <th>education</th>\n",
       "      <th>self-employed</th>\n",
       "      <th>rural_p</th>\n",
       "      <th>urban_p</th>\n",
       "      <th>semiurban_p</th>\n",
       "      <th>history</th>\n",
       "      <th>status</th>\n",
       "    </tr>\n",
       "  </thead>\n",
       "  <tbody>\n",
       "    <tr>\n",
       "      <th>475</th>\n",
       "      <td>0</td>\n",
       "      <td>0</td>\n",
       "      <td>0</td>\n",
       "      <td>1</td>\n",
       "      <td>0</td>\n",
       "      <td>1</td>\n",
       "      <td>0</td>\n",
       "      <td>0</td>\n",
       "      <td>1</td>\n",
       "      <td>1</td>\n",
       "    </tr>\n",
       "    <tr>\n",
       "      <th>476</th>\n",
       "      <td>1</td>\n",
       "      <td>1</td>\n",
       "      <td>3</td>\n",
       "      <td>1</td>\n",
       "      <td>0</td>\n",
       "      <td>1</td>\n",
       "      <td>0</td>\n",
       "      <td>0</td>\n",
       "      <td>1</td>\n",
       "      <td>1</td>\n",
       "    </tr>\n",
       "    <tr>\n",
       "      <th>477</th>\n",
       "      <td>1</td>\n",
       "      <td>1</td>\n",
       "      <td>1</td>\n",
       "      <td>1</td>\n",
       "      <td>0</td>\n",
       "      <td>0</td>\n",
       "      <td>1</td>\n",
       "      <td>0</td>\n",
       "      <td>1</td>\n",
       "      <td>1</td>\n",
       "    </tr>\n",
       "    <tr>\n",
       "      <th>478</th>\n",
       "      <td>1</td>\n",
       "      <td>1</td>\n",
       "      <td>2</td>\n",
       "      <td>1</td>\n",
       "      <td>0</td>\n",
       "      <td>0</td>\n",
       "      <td>1</td>\n",
       "      <td>0</td>\n",
       "      <td>1</td>\n",
       "      <td>1</td>\n",
       "    </tr>\n",
       "    <tr>\n",
       "      <th>479</th>\n",
       "      <td>0</td>\n",
       "      <td>0</td>\n",
       "      <td>0</td>\n",
       "      <td>1</td>\n",
       "      <td>1</td>\n",
       "      <td>0</td>\n",
       "      <td>0</td>\n",
       "      <td>1</td>\n",
       "      <td>0</td>\n",
       "      <td>0</td>\n",
       "    </tr>\n",
       "  </tbody>\n",
       "</table>\n",
       "</div>"
      ],
      "text/plain": [
       "     ismale  married  dependents  education  self-employed  rural_p  urban_p  \\\n",
       "475       0        0           0          1              0        1        0   \n",
       "476       1        1           3          1              0        1        0   \n",
       "477       1        1           1          1              0        0        1   \n",
       "478       1        1           2          1              0        0        1   \n",
       "479       0        0           0          1              1        0        0   \n",
       "\n",
       "     semiurban_p  history  status  \n",
       "475            0        1       1  \n",
       "476            0        1       1  \n",
       "477            0        1       1  \n",
       "478            0        1       1  \n",
       "479            1        0       0  "
      ]
     },
     "execution_count": 109,
     "metadata": {},
     "output_type": "execute_result"
    }
   ],
   "source": [
    "df.tail()"
   ]
  },
  {
   "cell_type": "code",
   "execution_count": 110,
   "id": "0cf9f1d1",
   "metadata": {},
   "outputs": [],
   "source": [
    "# preparing the dependent and independent variables\n",
    "\n",
    "x=df.drop(['status'], axis=1)\n",
    "y=df['status']"
   ]
  },
  {
   "cell_type": "code",
   "execution_count": 111,
   "id": "f86f7e33",
   "metadata": {},
   "outputs": [],
   "source": [
    "x_train, x_test, y_train, y_test= train_test_split(x, y,  test_size = 0.2, stratify = y)"
   ]
  },
  {
   "cell_type": "code",
   "execution_count": 112,
   "id": "259363d8",
   "metadata": {},
   "outputs": [],
   "source": [
    "# establishing the baseline\n",
    "dummy= DummyClassifier()\n",
    "dummy.fit(x_train, y_train)\n",
    "dummy_pred=dummy.predict(x_test)"
   ]
  },
  {
   "cell_type": "code",
   "execution_count": 113,
   "id": "db05af75",
   "metadata": {},
   "outputs": [
    {
     "data": {
      "text/plain": [
       "array([[ 0, 30],\n",
       "       [ 0, 66]], dtype=int64)"
      ]
     },
     "execution_count": 113,
     "metadata": {},
     "output_type": "execute_result"
    }
   ],
   "source": [
    "# assesing the dummy confussion matrix\n",
    "confusion_matrix(y_test, dummy_pred)"
   ]
  },
  {
   "cell_type": "code",
   "execution_count": 114,
   "id": "c5e3ad45",
   "metadata": {},
   "outputs": [
    {
     "name": "stdout",
     "output_type": "stream",
     "text": [
      "              precision    recall  f1-score   support\n",
      "\n",
      "           0       0.00      0.00      0.00        30\n",
      "           1       0.69      1.00      0.81        66\n",
      "\n",
      "    accuracy                           0.69        96\n",
      "   macro avg       0.34      0.50      0.41        96\n",
      "weighted avg       0.47      0.69      0.56        96\n",
      "\n"
     ]
    }
   ],
   "source": [
    "# assenging the dummy classifier report\n",
    "print(classification_report(y_test, dummy_pred))"
   ]
  },
  {
   "cell_type": "code",
   "execution_count": 115,
   "id": "acfa527d",
   "metadata": {},
   "outputs": [
    {
     "name": "stdout",
     "output_type": "stream",
     "text": [
      "68.75\n"
     ]
    }
   ],
   "source": [
    "# accuracy score of dummy report\n",
    "print(accuracy_score(y_test, dummy_pred)*100)"
   ]
  },
  {
   "cell_type": "markdown",
   "id": "44e789cb",
   "metadata": {},
   "source": [
    "### Logistic Regression Model"
   ]
  },
  {
   "cell_type": "code",
   "execution_count": 116,
   "id": "2c20a9f9",
   "metadata": {},
   "outputs": [],
   "source": [
    "logr= LogisticRegression()\n",
    "logr.fit(x_train, y_train)\n",
    "logr_pred=logr.predict(x_test)"
   ]
  },
  {
   "cell_type": "code",
   "execution_count": 118,
   "id": "82d7ed09",
   "metadata": {},
   "outputs": [
    {
     "data": {
      "text/plain": [
       "array([[12, 18],\n",
       "       [ 1, 65]], dtype=int64)"
      ]
     },
     "execution_count": 118,
     "metadata": {},
     "output_type": "execute_result"
    }
   ],
   "source": [
    "# assesing the logistic regresssion confussion matrix\n",
    "confusion_matrix(y_test, logr_pred)"
   ]
  },
  {
   "cell_type": "code",
   "execution_count": 119,
   "id": "5360f4f7",
   "metadata": {},
   "outputs": [
    {
     "name": "stdout",
     "output_type": "stream",
     "text": [
      "              precision    recall  f1-score   support\n",
      "\n",
      "           0       0.92      0.40      0.56        30\n",
      "           1       0.78      0.98      0.87        66\n",
      "\n",
      "    accuracy                           0.80        96\n",
      "   macro avg       0.85      0.69      0.72        96\n",
      "weighted avg       0.83      0.80      0.77        96\n",
      "\n"
     ]
    }
   ],
   "source": [
    "# assenging the logistic regression classifier report\n",
    "print(classification_report(y_test, logr_pred))"
   ]
  },
  {
   "cell_type": "code",
   "execution_count": 121,
   "id": "12e46b14",
   "metadata": {},
   "outputs": [
    {
     "name": "stdout",
     "output_type": "stream",
     "text": [
      "80.20833333333334\n"
     ]
    }
   ],
   "source": [
    "print(accuracy_score(y_test, logr_pred)*100)"
   ]
  },
  {
   "cell_type": "markdown",
   "id": "997616a6",
   "metadata": {},
   "source": [
    "### Decision Tree Model "
   ]
  },
  {
   "cell_type": "code",
   "execution_count": 126,
   "id": "571c9dc6",
   "metadata": {},
   "outputs": [],
   "source": [
    "dect= DecisionTreeClassifier()\n",
    "dect.fit(x_train, y_train)\n",
    "dect_pred=dect.predict(x_test)"
   ]
  },
  {
   "cell_type": "code",
   "execution_count": 127,
   "id": "f71160c7",
   "metadata": {},
   "outputs": [
    {
     "data": {
      "text/plain": [
       "array([[13, 17],\n",
       "       [ 5, 61]], dtype=int64)"
      ]
     },
     "execution_count": 127,
     "metadata": {},
     "output_type": "execute_result"
    }
   ],
   "source": [
    "# assesing the Decision Tree confussion matrix\n",
    "confusion_matrix(y_test, dect_pred)"
   ]
  },
  {
   "cell_type": "code",
   "execution_count": 128,
   "id": "50fb71f1",
   "metadata": {},
   "outputs": [
    {
     "name": "stdout",
     "output_type": "stream",
     "text": [
      "              precision    recall  f1-score   support\n",
      "\n",
      "           0       0.72      0.43      0.54        30\n",
      "           1       0.78      0.92      0.85        66\n",
      "\n",
      "    accuracy                           0.77        96\n",
      "   macro avg       0.75      0.68      0.69        96\n",
      "weighted avg       0.76      0.77      0.75        96\n",
      "\n"
     ]
    }
   ],
   "source": [
    "# assesing the Decision Tree classifier report\n",
    "print(classification_report(y_test, dect_pred))"
   ]
  },
  {
   "cell_type": "code",
   "execution_count": 129,
   "id": "0f308dcb",
   "metadata": {},
   "outputs": [
    {
     "name": "stdout",
     "output_type": "stream",
     "text": [
      "77.08333333333334\n"
     ]
    }
   ],
   "source": [
    "print(accuracy_score(y_test, dect_pred)*100)"
   ]
  },
  {
   "cell_type": "markdown",
   "id": "a4f16358",
   "metadata": {},
   "source": [
    "### Random Forest Model"
   ]
  },
  {
   "cell_type": "code",
   "execution_count": 138,
   "id": "4ef9c3a1",
   "metadata": {},
   "outputs": [],
   "source": [
    "ranf= RandomForestClassifier()\n",
    "ranf.fit(x_train, y_train)\n",
    "ranf_pred=ranf.predict(x_test)"
   ]
  },
  {
   "cell_type": "code",
   "execution_count": 139,
   "id": "85ea32ae",
   "metadata": {},
   "outputs": [
    {
     "data": {
      "text/plain": [
       "array([[14, 16],\n",
       "       [ 3, 63]], dtype=int64)"
      ]
     },
     "execution_count": 139,
     "metadata": {},
     "output_type": "execute_result"
    }
   ],
   "source": [
    "# assesing the Random Forest confussion matrix\n",
    "confusion_matrix(y_test, ranf_pred)"
   ]
  },
  {
   "cell_type": "code",
   "execution_count": 140,
   "id": "d394ed8e",
   "metadata": {},
   "outputs": [
    {
     "name": "stdout",
     "output_type": "stream",
     "text": [
      "              precision    recall  f1-score   support\n",
      "\n",
      "           0       0.82      0.47      0.60        30\n",
      "           1       0.80      0.95      0.87        66\n",
      "\n",
      "    accuracy                           0.80        96\n",
      "   macro avg       0.81      0.71      0.73        96\n",
      "weighted avg       0.81      0.80      0.78        96\n",
      "\n"
     ]
    }
   ],
   "source": [
    "# assesing the Random Forest classifier report\n",
    "print(classification_report(y_test, ranf_pred))"
   ]
  },
  {
   "cell_type": "code",
   "execution_count": 142,
   "id": "670c214a",
   "metadata": {},
   "outputs": [
    {
     "name": "stdout",
     "output_type": "stream",
     "text": [
      "80.20833333333334\n"
     ]
    }
   ],
   "source": [
    "print(accuracy_score(y_test, ranf_pred)*100)"
   ]
  },
  {
   "cell_type": "markdown",
   "id": "2d16de0c",
   "metadata": {},
   "source": [
    "### Support Vector Machines"
   ]
  },
  {
   "cell_type": "code",
   "execution_count": 143,
   "id": "8a9939b6",
   "metadata": {},
   "outputs": [],
   "source": [
    "svm= SVC()\n",
    "svm.fit(x_train, y_train)\n",
    "svm_pred=svm.predict(x_test)"
   ]
  },
  {
   "cell_type": "code",
   "execution_count": 144,
   "id": "dd5d7d12",
   "metadata": {},
   "outputs": [
    {
     "data": {
      "text/plain": [
       "array([[12, 18],\n",
       "       [ 1, 65]], dtype=int64)"
      ]
     },
     "execution_count": 144,
     "metadata": {},
     "output_type": "execute_result"
    }
   ],
   "source": [
    "# assesing the Support Vector confussion matrix\n",
    "confusion_matrix(y_test, svm_pred)"
   ]
  },
  {
   "cell_type": "code",
   "execution_count": 145,
   "id": "2518e013",
   "metadata": {},
   "outputs": [
    {
     "name": "stdout",
     "output_type": "stream",
     "text": [
      "              precision    recall  f1-score   support\n",
      "\n",
      "           0       0.92      0.40      0.56        30\n",
      "           1       0.78      0.98      0.87        66\n",
      "\n",
      "    accuracy                           0.80        96\n",
      "   macro avg       0.85      0.69      0.72        96\n",
      "weighted avg       0.83      0.80      0.77        96\n",
      "\n"
     ]
    }
   ],
   "source": [
    "# assesing the Support Vector classification report\n",
    "print(classification_report(y_test, svm_pred))"
   ]
  },
  {
   "cell_type": "code",
   "execution_count": 146,
   "id": "e28f14c2",
   "metadata": {},
   "outputs": [
    {
     "name": "stdout",
     "output_type": "stream",
     "text": [
      "80.20833333333334\n"
     ]
    }
   ],
   "source": [
    "print(accuracy_score(y_test, svm_pred)*100)"
   ]
  },
  {
   "cell_type": "markdown",
   "id": "f8c9cc6d",
   "metadata": {},
   "source": [
    "### KNN Model"
   ]
  },
  {
   "cell_type": "code",
   "execution_count": 151,
   "id": "2c219fe8",
   "metadata": {},
   "outputs": [],
   "source": [
    "knn= KNeighborsClassifier()\n",
    "knn.fit(x_train, y_train)\n",
    "knn_pred=knn.predict(x_test)"
   ]
  },
  {
   "cell_type": "code",
   "execution_count": 152,
   "id": "9e7c3aee",
   "metadata": {},
   "outputs": [
    {
     "data": {
      "text/plain": [
       "array([[ 9, 21],\n",
       "       [ 3, 63]], dtype=int64)"
      ]
     },
     "execution_count": 152,
     "metadata": {},
     "output_type": "execute_result"
    }
   ],
   "source": [
    "# assesing the Support Vector confussion matrix\n",
    "confusion_matrix(y_test, knn_pred)"
   ]
  },
  {
   "cell_type": "code",
   "execution_count": 153,
   "id": "cf1bddaf",
   "metadata": {},
   "outputs": [
    {
     "name": "stdout",
     "output_type": "stream",
     "text": [
      "              precision    recall  f1-score   support\n",
      "\n",
      "           0       0.75      0.30      0.43        30\n",
      "           1       0.75      0.95      0.84        66\n",
      "\n",
      "    accuracy                           0.75        96\n",
      "   macro avg       0.75      0.63      0.63        96\n",
      "weighted avg       0.75      0.75      0.71        96\n",
      "\n"
     ]
    }
   ],
   "source": [
    "# assesing the Support Vector classification report\n",
    "print(classification_report(y_test, knn_pred))"
   ]
  },
  {
   "cell_type": "code",
   "execution_count": 155,
   "id": "b7a6a637",
   "metadata": {},
   "outputs": [
    {
     "name": "stdout",
     "output_type": "stream",
     "text": [
      "75.0\n"
     ]
    }
   ],
   "source": [
    "print(accuracy_score(y_test, knn_pred)*100)"
   ]
  },
  {
   "cell_type": "markdown",
   "id": "91c7ee90",
   "metadata": {},
   "source": [
    "## Conclussion\n",
    "Its observed that Logistic regression, Random forest model and support vector model are the best models"
   ]
  },
  {
   "cell_type": "code",
   "execution_count": null,
   "id": "17dbc92b",
   "metadata": {},
   "outputs": [],
   "source": []
  }
 ],
 "metadata": {
  "kernelspec": {
   "display_name": "Python 3",
   "language": "python",
   "name": "python3"
  },
  "language_info": {
   "codemirror_mode": {
    "name": "ipython",
    "version": 3
   },
   "file_extension": ".py",
   "mimetype": "text/x-python",
   "name": "python",
   "nbconvert_exporter": "python",
   "pygments_lexer": "ipython3",
   "version": "3.8.8"
  }
 },
 "nbformat": 4,
 "nbformat_minor": 5
}
